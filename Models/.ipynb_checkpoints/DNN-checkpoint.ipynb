{
 "cells": [
  {
   "cell_type": "code",
   "execution_count": null,
   "metadata": {},
   "outputs": [],
   "source": [
    "import numpy as np\n",
    "import matplotlib.pyplot as plt\n",
    "import pandas as pd\n",
    "\n",
    "# Cubic structure\n",
    "dataset = pd.read_excel('cubic.xlsx')\n",
    "X = dataset.iloc[:,1:27].values\n",
    "#X = X[:,[7,12,13,18,24,11]] # Mean electronegativity, temperature, doping, nsites, fermi energy, n/p (1 if n, 0 otherwise)\n",
    "y_1 = dataset.iloc[:,27:28].values\n",
    "identity = np.ones([len(X),1]) * 1\n",
    "X_1 = np.hstack((X,identity))\n",
    "\n",
    "# Hexagonal structure\n",
    "dataset = pd.read_excel('hexagonal.xlsx')\n",
    "X = dataset.iloc[:,1:27].values\n",
    "#X = X[:,[7,12,13,18,24,11]] # Mean electronegativity, temperature, doping, nsites, fermi energy, n/p (1 if n, 0 otherwise)\n",
    "y_2 = dataset.iloc[:,27:28].values\n",
    "identity = np.ones([len(X),1]) * 2\n",
    "X_2 = np.hstack((X,identity))\n",
    "\n",
    "# Monoclinic structure\n",
    "dataset = pd.read_excel('monoclinic.xlsx')\n",
    "X = dataset.iloc[:,1:27].values\n",
    "#X = X[:,[7,12,13,18,24,11]] # Mean electronegativity, temperature, doping, nsites, fermi energy, n/p (1 if n, 0 otherwise)\n",
    "y_3 = dataset.iloc[:,27:28].values\n",
    "identity = np.ones([len(X),1]) * 3\n",
    "X_3 = np.hstack((X,identity))\n",
    "\n",
    "# Orthorhombic structure\n",
    "dataset = pd.read_excel('orthorhombic.xlsx')\n",
    "X = dataset.iloc[:,1:27].values\n",
    "#X = X[:,[7,12,13,18,24,11]] # Mean electronegativity, temperature, doping, nsites, fermi energy, n/p (1 if n, 0 otherwise)\n",
    "y_4 = dataset.iloc[:,27:28].values\n",
    "identity = np.ones([len(X),1]) * 4\n",
    "X_4 = np.hstack((X,identity))\n",
    "\n",
    "# Tetragonal structure\n",
    "dataset = pd.read_excel('tetragonal.xlsx')\n",
    "X = dataset.iloc[:,1:27].values\n",
    "#X = X[:,[7,12,13,18,24,11]] # Mean electronegativity, temperature, doping, nsites, fermi energy, n/p (1 if n, 0 otherwise)\n",
    "y_5 = dataset.iloc[:,27:28].values\n",
    "identity = np.ones([len(X),1]) * 5\n",
    "X_5 = np.hstack((X,identity))\n",
    "\n",
    "# Triclinic structure\n",
    "dataset = pd.read_excel('triclinic.xlsx')\n",
    "X = dataset.iloc[:,1:27].values\n",
    "#X = X[:,[7,12,13,18,24,11]] # Mean electronegativity, temperature, doping, nsites, fermi energy, n/p (1 if n, 0 otherwise)\n",
    "y_6 = dataset.iloc[:,27:28].values\n",
    "identity = np.ones([len(X),1]) * 6\n",
    "X_6 = np.hstack((X,identity))\n",
    "\n",
    "# Trigonal structure\n",
    "dataset = pd.read_excel('trigonal.xlsx')\n",
    "X = dataset.iloc[:,1:27].values\n",
    "#X = X[:,[7,12,13,18,24,11]] # Mean electronegativity, temperature, doping, nsites, fermi energy, n/p (1 if n, 0 otherwise)\n",
    "y_7 = dataset.iloc[:,27:28].values\n",
    "identity = np.ones([len(X),1]) * 7\n",
    "X_7 = np.hstack((X,identity))\n",
    "\n",
    "X = np.vstack((X_1,X_2,X_3,X_4,X_5,X_6,X_7))\n",
    "y = np.vstack((y_1,y_2,y_3,y_4,y_5,y_6,y_7))\n",
    "doping = X[:,13]\n",
    "indices_1 = np.where(doping == 1e20)\n",
    "X1 = X[indices_1,:][0]\n",
    "y1 = y[indices_1,:][0]\n",
    "indices_2 = np.where(doping == 1e19)\n",
    "X2 = X[indices_2,:][0]\n",
    "y2 = y[indices_2,:][0]\n",
    "indices_3 = np.where(doping == 1e18)\n",
    "X3 = X[indices_3,:][0]\n",
    "y3 = y[indices_3,:][0]\n",
    "temperature = X3[:,12]\n",
    "indices_4 = np.where(temperature < 1000)\n",
    "X3 = X3[indices_4,:][0]\n",
    "y3 = y3[indices_4,:][0]\n",
    "X = np.vstack((X1,X2,X3))\n",
    "y = np.vstack((y1,y2,y3))\n",
    "indices_5 = np.where(y*(10**-21) >= 1) # Only power factor >= 1\n",
    "y = y[indices_5,:][0]\n",
    "X = X[indices_5,:][0]"
   ]
  },
  {
   "cell_type": "code",
   "execution_count": null,
   "metadata": {},
   "outputs": [],
   "source": [
    "# Filtering data to perform box-cox transformation on each feature\n",
    "range_AtomicWeight = X[:,0]\n",
    "mean_AtomicWeight = X[:,1]\n",
    "avg_dev_AtomicWeight = X[:,2]\n",
    "range_CovalentRadius = X[:,3]\n",
    "mean_CovalentRadius = X[:,4]\n",
    "avg_dev_CovalentRadius = X[:,5]\n",
    "range_Electronegativity = X[:,6]\n",
    "mean_Electronegativity = X[:,7]\n",
    "avg_dev_Electronegativity = X[:,8]\n",
    "nelements = X[:,9]\n",
    "molecular_weight = X[:,10]\n",
    "n = X[:,11]\n",
    "temperature = X[:,12]\n",
    "doping = X[:,13]\n",
    "s_fraction = X[:,14]\n",
    "d_fraction = X[:,15]\n",
    "p_fraction = X[:,16]\n",
    "form_energy = X[:,17]\n",
    "n_sites = X[:,18]\n",
    "e_above_hull = X[:,19]\n",
    "final_energy = X[:,20]\n",
    "volume = X[:,21]\n",
    "density = X[:,22]\n",
    "bandgap = X[:,23]\n",
    "efermi = X[:,24]\n",
    "direct = X[:,25]"
   ]
  },
  {
   "cell_type": "code",
   "execution_count": null,
   "metadata": {},
   "outputs": [],
   "source": [
    "range_AtomicWeight = X[:,0]\n",
    "range_AtomicWeight = range_AtomicWeight**0.7\n",
    "\n",
    "%matplotlib notebook\n",
    "plt.hist(range_AtomicWeight, color = 'blue', edgecolor = 'black',bins = 40)\n",
    "plt.xlabel('range_AtomicWeight')\n",
    "plt.ylabel('Frequency')\n",
    "plt.show()"
   ]
  },
  {
   "cell_type": "code",
   "execution_count": null,
   "metadata": {},
   "outputs": [],
   "source": [
    "mean_AtomicWeight = X[:,1]\n",
    "mean_AtomicWeight = np.log10(mean_AtomicWeight)\n",
    "\n",
    "%matplotlib notebook\n",
    "plt.hist(mean_AtomicWeight, color = 'blue', edgecolor = 'black',bins = 40)\n",
    "plt.xlabel('mean_AtomicWeight')\n",
    "plt.ylabel('Frequency')\n",
    "plt.show()"
   ]
  },
  {
   "cell_type": "code",
   "execution_count": null,
   "metadata": {},
   "outputs": [],
   "source": [
    "avg_dev_AtomicWeight = X[:,2]\n",
    "avg_dev_AtomicWeight = (avg_dev_AtomicWeight+5)**0.3\n",
    "\n",
    "%matplotlib notebook\n",
    "plt.hist(avg_dev_AtomicWeight, color = 'blue', edgecolor = 'black',bins = 40)\n",
    "plt.xlabel('avg_dev_AtomicWeight')\n",
    "plt.ylabel('Frequency')\n",
    "plt.show()"
   ]
  },
  {
   "cell_type": "code",
   "execution_count": null,
   "metadata": {},
   "outputs": [],
   "source": [
    "range_CovalentRadius = X[:,3]\n",
    "range_CovalentRadius = (range_CovalentRadius+10)**0.8\n",
    "\n",
    "%matplotlib notebook\n",
    "plt.hist(range_CovalentRadius, color = 'blue', edgecolor = 'black',bins = 40)\n",
    "plt.xlabel('range_CovalentRadius')\n",
    "plt.ylabel('Frequency')\n",
    "plt.show()"
   ]
  },
  {
   "cell_type": "code",
   "execution_count": null,
   "metadata": {},
   "outputs": [],
   "source": [
    "mean_CovalentRadius = X[:,4]\n",
    "mean_CovalentRadius = mean_CovalentRadius**-0.01\n",
    "\n",
    "%matplotlib notebook\n",
    "plt.hist(mean_CovalentRadius, color = 'blue', edgecolor = 'black',bins = 40)\n",
    "plt.xlabel('mean_CovalentRadius')\n",
    "plt.ylabel('Frequency')\n",
    "plt.show()"
   ]
  },
  {
   "cell_type": "code",
   "execution_count": null,
   "metadata": {},
   "outputs": [],
   "source": [
    "avg_dev_CovalentRadius = X[:,5]\n",
    "avg_dev_CovalentRadius = avg_dev_CovalentRadius**0.8\n",
    "\n",
    "%matplotlib notebook\n",
    "plt.hist(avg_dev_CovalentRadius, color = 'blue', edgecolor = 'black',bins = 40)\n",
    "plt.xlabel('avg_dev_CovalentRadius')\n",
    "plt.ylabel('Frequency')\n",
    "plt.show()"
   ]
  },
  {
   "cell_type": "code",
   "execution_count": null,
   "metadata": {},
   "outputs": [],
   "source": [
    "range_Electronegativity = X[:,6]\n",
    "range_Electronegativity = (range_Electronegativity+1)**4\n",
    "\n",
    "%matplotlib notebook\n",
    "plt.hist(range_Electronegativity, color = 'blue', edgecolor = 'black',bins = 40)\n",
    "plt.xlabel('range_Electronegativity')\n",
    "plt.ylabel('Frequency')\n",
    "plt.show()"
   ]
  },
  {
   "cell_type": "code",
   "execution_count": null,
   "metadata": {},
   "outputs": [],
   "source": [
    "mean_Electronegativity = X[:,7]\n",
    "#mean_Electronegativity = mean_Electronegativity**0.7\n",
    "\n",
    "%matplotlib notebook\n",
    "plt.hist(mean_Electronegativity, color = 'blue', edgecolor = 'black',bins = 40)\n",
    "plt.xlabel('mean_Electronegativity')\n",
    "plt.ylabel('Frequency')\n",
    "plt.show()"
   ]
  },
  {
   "cell_type": "code",
   "execution_count": null,
   "metadata": {},
   "outputs": [],
   "source": [
    "avg_dev_Electronegativity = X[:,8]\n",
    "\n",
    "%matplotlib notebook\n",
    "plt.hist(avg_dev_Electronegativity, color = 'blue', edgecolor = 'black',bins = 40)\n",
    "plt.xlabel('avg_dev_Electronegativity')\n",
    "plt.ylabel('Frequency')\n",
    "plt.show()"
   ]
  },
  {
   "cell_type": "code",
   "execution_count": null,
   "metadata": {},
   "outputs": [],
   "source": [
    "nelements = X[:,9]\n",
    "\n",
    "%matplotlib notebook\n",
    "plt.hist(nelements, color = 'blue', edgecolor = 'black',bins = 40)\n",
    "plt.xlabel('nelements')\n",
    "plt.ylabel('Frequency')\n",
    "plt.show()"
   ]
  },
  {
   "cell_type": "code",
   "execution_count": null,
   "metadata": {},
   "outputs": [],
   "source": [
    "molecular_weight = X[:,10]\n",
    "molecular_weight = molecular_weight**0.1\n",
    "\n",
    "%matplotlib notebook\n",
    "plt.hist(molecular_weight, color = 'blue', edgecolor = 'black',bins = 40)\n",
    "plt.xlabel('molecular_weight')\n",
    "plt.ylabel('Frequency')\n",
    "plt.show()"
   ]
  },
  {
   "cell_type": "code",
   "execution_count": null,
   "metadata": {},
   "outputs": [],
   "source": [
    "n = X[:,11]\n",
    "\n",
    "%matplotlib notebook\n",
    "plt.hist(n, color = 'blue', edgecolor = 'black',bins = 40)\n",
    "plt.xlabel('n-type')\n",
    "plt.ylabel('Frequency')\n",
    "plt.show()"
   ]
  },
  {
   "cell_type": "code",
   "execution_count": null,
   "metadata": {},
   "outputs": [],
   "source": [
    "temperature = X[:,12]\n",
    "\n",
    "%matplotlib notebook\n",
    "plt.hist(temperature, color = 'blue', edgecolor = 'black',bins = 40)\n",
    "plt.xlabel('temperature')\n",
    "plt.ylabel('Frequency')\n",
    "plt.show()"
   ]
  },
  {
   "cell_type": "code",
   "execution_count": null,
   "metadata": {},
   "outputs": [],
   "source": [
    "doping = X[:,13]\n",
    "doping = doping**0.1\n",
    "\n",
    "%matplotlib notebook\n",
    "plt.hist(doping, color = 'blue', edgecolor = 'black',bins = 40)\n",
    "plt.xlabel('doping')\n",
    "plt.ylabel('Frequency')\n",
    "plt.show()"
   ]
  },
  {
   "cell_type": "code",
   "execution_count": null,
   "metadata": {},
   "outputs": [],
   "source": [
    "s_fraction = X[:,14]\n",
    "s_fraction = s_fraction**0.3\n",
    "\n",
    "%matplotlib notebook\n",
    "plt.hist(s_fraction, color = 'blue', edgecolor = 'black',bins = 40)\n",
    "plt.xlabel('s_fraction')\n",
    "plt.ylabel('Frequency')\n",
    "plt.show()"
   ]
  },
  {
   "cell_type": "code",
   "execution_count": null,
   "metadata": {},
   "outputs": [],
   "source": [
    "d_fraction = X[:,15]\n",
    "\n",
    "%matplotlib notebook\n",
    "plt.hist(d_fraction, color = 'blue', edgecolor = 'black',bins = 40)\n",
    "plt.xlabel('d_fraction')\n",
    "plt.ylabel('Frequency')\n",
    "plt.show()"
   ]
  },
  {
   "cell_type": "code",
   "execution_count": null,
   "metadata": {},
   "outputs": [],
   "source": [
    "p_fraction = X[:,16]\n",
    "\n",
    "%matplotlib notebook\n",
    "plt.hist(p_fraction, color = 'blue', edgecolor = 'black',bins = 40)\n",
    "plt.xlabel('p_fraction')\n",
    "plt.ylabel('Frequency')\n",
    "plt.show()"
   ]
  },
  {
   "cell_type": "code",
   "execution_count": null,
   "metadata": {},
   "outputs": [],
   "source": [
    "form_energy = X[:,17]\n",
    "\n",
    "%matplotlib notebook\n",
    "plt.hist(form_energy, color = 'blue', edgecolor = 'black',bins = 40)\n",
    "plt.xlabel('form_energy')\n",
    "plt.ylabel('Frequency')\n",
    "plt.show()"
   ]
  },
  {
   "cell_type": "code",
   "execution_count": null,
   "metadata": {},
   "outputs": [],
   "source": [
    "n_sites = X[:,18]\n",
    "n_sites = n_sites**0.1\n",
    "\n",
    "%matplotlib notebook\n",
    "plt.hist(n_sites, color = 'blue', edgecolor = 'black',bins = 40)\n",
    "plt.xlabel('n_sites')\n",
    "plt.ylabel('Frequency')\n",
    "plt.show()"
   ]
  },
  {
   "cell_type": "code",
   "execution_count": null,
   "metadata": {},
   "outputs": [],
   "source": [
    "e_above_hull = X[:,19]\n",
    "\n",
    "%matplotlib notebook\n",
    "plt.hist(e_above_hull, color = 'blue', edgecolor = 'black',bins = 40)\n",
    "plt.xlabel('e_above_hull')\n",
    "plt.ylabel('Frequency')\n",
    "plt.show()"
   ]
  },
  {
   "cell_type": "code",
   "execution_count": null,
   "metadata": {},
   "outputs": [],
   "source": [
    "final_energy = X[:,20]\n",
    "\n",
    "%matplotlib notebook\n",
    "plt.hist(final_energy, color = 'blue', edgecolor = 'black',bins = 40)\n",
    "plt.xlabel('final_energy')\n",
    "plt.ylabel('Frequency')\n",
    "plt.show()"
   ]
  },
  {
   "cell_type": "code",
   "execution_count": null,
   "metadata": {},
   "outputs": [],
   "source": [
    "volume = X[:,21]\n",
    "volume = volume**0.05\n",
    "\n",
    "%matplotlib notebook\n",
    "plt.hist(volume, color = 'blue', edgecolor = 'black',bins = 40)\n",
    "plt.xlabel('volume')\n",
    "plt.ylabel('Frequency')\n",
    "plt.show()"
   ]
  },
  {
   "cell_type": "code",
   "execution_count": null,
   "metadata": {},
   "outputs": [],
   "source": [
    "density = X[:,22]\n",
    "density = density**0.5\n",
    "\n",
    "%matplotlib notebook\n",
    "plt.hist(density, color = 'blue', edgecolor = 'black',bins = 40)\n",
    "plt.xlabel('density')\n",
    "plt.ylabel('Frequency')\n",
    "plt.show()"
   ]
  },
  {
   "cell_type": "code",
   "execution_count": null,
   "metadata": {},
   "outputs": [],
   "source": [
    "bandgap = X[:,23]\n",
    "bandgap = bandgap**0.5\n",
    "\n",
    "%matplotlib notebook\n",
    "plt.hist(bandgap, color = 'blue', edgecolor = 'black',bins = 40)\n",
    "plt.xlabel('bandgap')\n",
    "plt.ylabel('Frequency')\n",
    "plt.show()"
   ]
  },
  {
   "cell_type": "code",
   "execution_count": null,
   "metadata": {},
   "outputs": [],
   "source": [
    "efermi = X[:,24]\n",
    "\n",
    "%matplotlib notebook\n",
    "plt.hist(efermi, color = 'blue', edgecolor = 'black',bins = 40)\n",
    "plt.xlabel('efermi')\n",
    "plt.ylabel('Frequency')\n",
    "plt.show()"
   ]
  },
  {
   "cell_type": "code",
   "execution_count": null,
   "metadata": {},
   "outputs": [],
   "source": [
    "direct = X[:,25]\n",
    "\n",
    "%matplotlib notebook\n",
    "plt.hist(direct, color = 'blue', edgecolor = 'black',bins = 40)\n",
    "plt.xlabel('direct')\n",
    "plt.ylabel('Frequency')\n",
    "plt.show()"
   ]
  },
  {
   "cell_type": "code",
   "execution_count": null,
   "metadata": {},
   "outputs": [],
   "source": [
    "identity = X[:,26]\n",
    "identity = np.reshape(identity, [-1,1])\n",
    "\n",
    "# Encoding categorical data (spacegroup)\n",
    "from sklearn.preprocessing import LabelEncoder, OneHotEncoder\n",
    "labelencoder_spacegroup = LabelEncoder()\n",
    "identity[:, 0] = labelencoder_spacegroup.fit_transform(identity[:, 0])\n",
    "onehotencoder = OneHotEncoder(categorical_features = [0])\n",
    "identity = onehotencoder.fit_transform(identity).toarray()\n",
    "identity = identity[:,0:-1]\n",
    "print(identity)"
   ]
  },
  {
   "cell_type": "code",
   "execution_count": null,
   "metadata": {},
   "outputs": [],
   "source": [
    "factor = y\n",
    "factor = np.reshape(factor,[-1,1])\n",
    "factor = np.log10(factor)\n",
    "\n",
    "%matplotlib notebook\n",
    "plt.hist(factor, color = 'blue', edgecolor = 'black',bins = 40)\n",
    "plt.xlabel('Power factor')\n",
    "plt.ylabel('Frequency')\n",
    "plt.show()"
   ]
  },
  {
   "cell_type": "code",
   "execution_count": null,
   "metadata": {},
   "outputs": [],
   "source": [
    "X_transformed = np.hstack((range_AtomicWeight.reshape([-1,1]),\n",
    "                          mean_AtomicWeight.reshape([-1,1]),\n",
    "                          avg_dev_AtomicWeight.reshape([-1,1]),\n",
    "                          range_CovalentRadius.reshape([-1,1]),\n",
    "                          mean_CovalentRadius.reshape([-1,1]),\n",
    "                          avg_dev_CovalentRadius.reshape([-1,1]),\n",
    "                          range_Electronegativity.reshape([-1,1]),\n",
    "                          mean_Electronegativity.reshape([-1,1]),\n",
    "                          avg_dev_Electronegativity.reshape([-1,1]),\n",
    "                          nelements.reshape([-1,1]),\n",
    "                          molecular_weight.reshape([-1,1]),\n",
    "                          temperature.reshape([-1,1]),\n",
    "                          doping.reshape([-1,1]),\n",
    "                          s_fraction.reshape([-1,1]),\n",
    "                          d_fraction.reshape([-1,1]),\n",
    "                          p_fraction.reshape([-1,1]),\n",
    "                          form_energy.reshape([-1,1]),\n",
    "                          n_sites.reshape([-1,1]),\n",
    "                          e_above_hull.reshape([-1,1]),\n",
    "                          final_energy.reshape([-1,1]),\n",
    "                          volume.reshape([-1,1]),\n",
    "                          density.reshape([-1,1]),\n",
    "                          bandgap.reshape([-1,1]),\n",
    "                          efermi.reshape([-1,1]),\n",
    "                          n.reshape([-1,1]),\n",
    "                          direct.reshape([-1,1]),\n",
    "                          identity))\n",
    "\n",
    "y_transformed = factor"
   ]
  },
  {
   "cell_type": "code",
   "execution_count": null,
   "metadata": {},
   "outputs": [],
   "source": [
    "# Importing the Keras libraries and packages\n",
    "import keras\n",
    "from keras.models import Sequential\n",
    "from keras.layers import Dense, Dropout\n",
    "from keras.regularizers import l2\n",
    "\n",
    "# Splitting the dataset into the Training set and Test set\n",
    "from sklearn.model_selection import train_test_split\n",
    "X_train, X_test, y_train, y_test = train_test_split(X_transformed, y_transformed, test_size = 0.1, random_state = 0)\n",
    "\n",
    "# Feature Scaling\n",
    "from sklearn.preprocessing import StandardScaler\n",
    "sc_X = StandardScaler()\n",
    "X_train[:,0:-8] = sc_X.fit_transform(X_train[:,0:-8]) # Ensure that n, direct & identity (6 types) are excluded during scaling\n",
    "X_test[:,0:-8] = sc_X.transform(X_test[:,0:-8])\n",
    "\n",
    "sc_y = StandardScaler()\n",
    "y_train = np.reshape(y_train,[len(y_train),1])\n",
    "y_train = sc_y.fit_transform(y_train)\n",
    "y_train = np.reshape(y_train,[len(y_train),1])\n",
    "\n",
    "# Initialising the ANN\n",
    "regressor = Sequential()\n",
    "\n",
    "# Adding the input layer and the first hidden layer\n",
    "regressor.add(Dense(units = 100, kernel_initializer = 'uniform', activation = 'relu', input_dim = np.shape(X_train)[-1]))\n",
    "\n",
    "# Adding the second hidden layer\n",
    "regressor.add(Dense(units = 100, kernel_initializer = 'uniform', activation = 'relu'))\n",
    "\n",
    "# Adding the third hidden layer\n",
    "regressor.add(Dense(units = 100, kernel_initializer = 'uniform', activation = 'relu'))\n",
    "\n",
    "# Adding the output layer\n",
    "regressor.add(Dense(activation = 'linear', units = 1, kernel_initializer = \"uniform\"))\n",
    "\n",
    "# Compiling the ANN\n",
    "regressor.compile(optimizer = 'Adam', loss = 'mean_squared_error', metrics = ['mae'])\n",
    "\n",
    "# Fitting the ANN to the Training set\n",
    "regressor.fit(X_train, y_train, batch_size = 16, epochs = 20)"
   ]
  },
  {
   "cell_type": "code",
   "execution_count": null,
   "metadata": {},
   "outputs": [],
   "source": [
    "y_pred = regressor.predict(X_test)\n",
    "y_pred = sc_y.inverse_transform(y_pred)\n",
    "\n",
    "import xlsxwriter\n",
    "\n",
    "workbook = xlsxwriter.Workbook('Full dataset (FCNN test results).xlsx')\n",
    "worksheet = workbook.add_worksheet()\n",
    "row = 0\n",
    "col = 0\n",
    "\n",
    "# Iterate over the data and write it out row by row\n",
    "for i in range(len(y_test)):\n",
    "    worksheet.write(row, col, y_test[i])\n",
    "    worksheet.write(row, col + 1, y_pred[i])\n",
    "\n",
    "\n",
    "    row += 1\n",
    "\n",
    "workbook.close()"
   ]
  },
  {
   "cell_type": "code",
   "execution_count": null,
   "metadata": {},
   "outputs": [],
   "source": [
    "import pandas as pd\n",
    "import numpy as np\n",
    "import matplotlib.pyplot as plt\n",
    "\n",
    "data = pd.read_excel('Full dataset (FCNN test results).xlsx', header = None)\n",
    "data = data.values\n",
    "y_test = data[:,0:1]\n",
    "y_pred = data[:,1:2]\n",
    "rescaled_target = 10**y_test\n",
    "rescaled_pred = 10**y_pred\n",
    "mean = np.mean((abs(rescaled_target - rescaled_pred)/rescaled_target)*100)\n",
    "median = np.median((abs(rescaled_target - rescaled_pred)/rescaled_target)*100)\n",
    "print(mean,median)\n",
    "\n",
    "plt.scatter(y_test,y_pred,color = 'red')\n",
    "plt.show()"
   ]
  }
 ],
 "metadata": {
  "kernelspec": {
   "display_name": "Python 3",
   "language": "python",
   "name": "python3"
  },
  "language_info": {
   "codemirror_mode": {
    "name": "ipython",
    "version": 3
   },
   "file_extension": ".py",
   "mimetype": "text/x-python",
   "name": "python",
   "nbconvert_exporter": "python",
   "pygments_lexer": "ipython3",
   "version": "3.8.3"
  }
 },
 "nbformat": 4,
 "nbformat_minor": 2
}
