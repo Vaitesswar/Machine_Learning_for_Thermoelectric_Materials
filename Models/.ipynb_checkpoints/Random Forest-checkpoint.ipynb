{
 "cells": [
  {
   "cell_type": "code",
   "execution_count": null,
   "metadata": {},
   "outputs": [],
   "source": [
    "import numpy as np\n",
    "import matplotlib.pyplot as plt\n",
    "import pandas as pd\n",
    "\n",
    "# Cubic structure\n",
    "dataset = pd.read_excel('../Data/cubic.xlsx')\n",
    "X = dataset.iloc[:,1:27].values\n",
    "y_1 = dataset.iloc[:,27:28].values\n",
    "identity = np.ones([len(X),1]) * 1\n",
    "X_1 = np.hstack((X,identity))\n",
    "\n",
    "# Hexagonal structure\n",
    "dataset = pd.read_excel('../Data/hexagonal.xlsx')\n",
    "X = dataset.iloc[:,1:27].values\n",
    "y_2 = dataset.iloc[:,27:28].values\n",
    "identity = np.ones([len(X),1]) * 2\n",
    "X_2 = np.hstack((X,identity))\n",
    "\n",
    "# Monoclinic structure\n",
    "dataset = pd.read_excel('../Data/monoclinic.xlsx')\n",
    "X = dataset.iloc[:,1:27].values\n",
    "y_3 = dataset.iloc[:,27:28].values\n",
    "identity = np.ones([len(X),1]) * 3\n",
    "X_3 = np.hstack((X,identity))\n",
    "\n",
    "# Orthorhombic structure\n",
    "dataset = pd.read_excel('../Data/orthorhombic.xlsx')\n",
    "X = dataset.iloc[:,1:27].values\n",
    "y_4 = dataset.iloc[:,27:28].values\n",
    "identity = np.ones([len(X),1]) * 4\n",
    "X_4 = np.hstack((X,identity))\n",
    "\n",
    "# Tetragonal structure\n",
    "dataset = pd.read_excel('../Data/tetragonal.xlsx')\n",
    "X = dataset.iloc[:,1:27].values\n",
    "y_5 = dataset.iloc[:,27:28].values\n",
    "identity = np.ones([len(X),1]) * 5\n",
    "X_5 = np.hstack((X,identity))\n",
    "\n",
    "# Triclinic structure\n",
    "dataset = pd.read_excel('../Data/triclinic.xlsx')\n",
    "X = dataset.iloc[:,1:27].values\n",
    "y_6 = dataset.iloc[:,27:28].values\n",
    "identity = np.ones([len(X),1]) * 6\n",
    "X_6 = np.hstack((X,identity))\n",
    "\n",
    "# Trigonal structure\n",
    "dataset = pd.read_excel('../Data/trigonal.xlsx')\n",
    "X = dataset.iloc[:,1:27].values\n",
    "y_7 = dataset.iloc[:,27:28].values\n",
    "identity = np.ones([len(X),1]) * 7\n",
    "X_7 = np.hstack((X,identity))\n",
    "\n",
    "X = np.vstack((X_1,X_2,X_3,X_4,X_5,X_6,X_7))\n",
    "y = np.vstack((y_1,y_2,y_3,y_4,y_5,y_6,y_7))\n",
    "doping = X[:,13]\n",
    "indices_1 = np.where(doping == 1e20)\n",
    "X1 = X[indices_1,:][0]\n",
    "y1 = y[indices_1,:][0]\n",
    "indices_2 = np.where(doping == 1e19)\n",
    "X2 = X[indices_2,:][0]\n",
    "y2 = y[indices_2,:][0]\n",
    "indices_3 = np.where(doping == 1e18)\n",
    "X3 = X[indices_3,:][0]\n",
    "y3 = y[indices_3,:][0]\n",
    "temperature = X3[:,12]\n",
    "indices_4 = np.where(temperature < 1000)\n",
    "X3 = X3[indices_4,:][0]\n",
    "y3 = y3[indices_4,:][0]\n",
    "X = np.vstack((X1,X2,X3))\n",
    "y = np.vstack((y1,y2,y3))\n",
    "indices_5 = np.where(y*(10**-21) >= 1) # Only power factor >= 1\n",
    "y = np.log10(y[indices_5,:][0])**6\n",
    "X = X[indices_5,:][0]"
   ]
  },
  {
   "cell_type": "code",
   "execution_count": 2,
   "metadata": {},
   "outputs": [
    {
     "name": "stderr",
     "output_type": "stream",
     "text": [
      "C:\\Users\\usvai\\anaconda3\\Lib\\site-packages\\sklearn\\base.py:1152: DataConversionWarning: A column-vector y was passed when a 1d array was expected. Please change the shape of y to (n_samples,), for example using ravel().\n",
      "  return fit_method(estimator, *args, **kwargs)\n"
     ]
    }
   ],
   "source": [
    "from sklearn.model_selection import train_test_split\n",
    "X_train, X_test, y_train, y_test = train_test_split(X, y, test_size = 0.1)\n",
    "\n",
    "from sklearn.ensemble import RandomForestRegressor\n",
    "\n",
    "regressor = RandomForestRegressor(n_estimators = 391, \n",
    "                                  max_depth = 100, \n",
    "                                  min_samples_split = 2, \n",
    "                                  min_samples_leaf = 1,\n",
    "                                  max_features = 'sqrt',\n",
    "                                  bootstrap = False)\n",
    "regressor.fit(X_train,y_train)\n",
    "y_pred = regressor.predict(X_test)"
   ]
  },
  {
   "cell_type": "code",
   "execution_count": 10,
   "metadata": {
    "scrolled": true
   },
   "outputs": [
    {
     "name": "stdout",
     "output_type": "stream",
     "text": [
      "The MAPE is 16.6 %.\n"
     ]
    },
    {
     "data": {
      "image/png": "[encoded data removed]",
      "text/plain": [
       "<Figure size 640x480 with 1 Axes>"
      ]
     },
     "metadata": {},
     "output_type": "display_data"
    }
   ],
   "source": [
    "# Plot actual vs predicted and compute MAPE\n",
    "plt.scatter(y_test**(1/6),y_pred**(1/6))\n",
    "pred = 10**(y_pred**(1/6))\n",
    "target = 10**(y_test**(1/6))\n",
    "total = 0\n",
    "cnt = 0\n",
    "for i in range(len(y_pred)):\n",
    "    total += (abs(target[i] - pred[i])/target[i])*100\n",
    "    cnt += 1\n",
    "print(\"The MAPE is \" + str(round((total/cnt)[0],2)) + \" %.\")"
   ]
  },
  {
   "cell_type": "code",
   "execution_count": 9,
   "metadata": {},
   "outputs": [],
   "source": [
    "# Save the predicted results\n",
    "transform_y_pred = 10**(y_pred**(1/6))\n",
    "transform_y_test = 10**(y_test**(1/6))\n",
    "\n",
    "import xlsxwriter\n",
    "\n",
    "workbook = xlsxwriter.Workbook('Full dataset (RF test results).xlsx') \n",
    "worksheet = workbook.add_worksheet()\n",
    "row = 0\n",
    "col = 0\n",
    "\n",
    "actual = transform_y_test.tolist()\n",
    "prediction = transform_y_pred.tolist()\n",
    "\n",
    "# Iterate over the data and write it out row by row\n",
    "for i in range(len(actual)):\n",
    "    worksheet.write(row, col, actual[i][0])\n",
    "    worksheet.write(row, col + 1, prediction[i])\n",
    "\n",
    "\n",
    "    row += 1\n",
    "\n",
    "workbook.close()"
   ]
  }
 ],
 "metadata": {
  "kernelspec": {
   "display_name": "Python 3 (ipykernel)",
   "language": "python",
   "name": "python3"
  },
  "language_info": {
   "codemirror_mode": {
    "name": "ipython",
    "version": 3
   },
   "file_extension": ".py",
   "mimetype": "text/x-python",
   "name": "python",
   "nbconvert_exporter": "python",
   "pygments_lexer": "ipython3",
   "version": "3.11.4"
  }
 },
 "nbformat": 4,
 "nbformat_minor": 2
}
